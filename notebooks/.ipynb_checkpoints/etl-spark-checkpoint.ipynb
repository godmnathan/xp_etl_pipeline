{
 "cells": [
  {
   "cell_type": "code",
   "execution_count": 14,
   "id": "4c7a9a6f-50f4-45f8-9f3e-49f46a95e64d",
   "metadata": {},
   "outputs": [
    {
     "name": "stdout",
     "output_type": "stream",
     "text": [
      "Requirement already satisfied: flask<2.3,>=2.2 in c:\\users\\ricar\\appdata\\local\\programs\\python\\python311\\lib\\site-packages (2.2.5)\n",
      "Requirement already satisfied: Werkzeug>=2.2.2 in c:\\users\\ricar\\appdata\\local\\programs\\python\\python311\\lib\\site-packages (from flask<2.3,>=2.2) (3.1.3)\n",
      "Requirement already satisfied: Jinja2>=3.0 in c:\\users\\ricar\\appdata\\local\\programs\\python\\python311\\lib\\site-packages (from flask<2.3,>=2.2) (3.1.4)\n",
      "Requirement already satisfied: itsdangerous>=2.0 in c:\\users\\ricar\\appdata\\local\\programs\\python\\python311\\lib\\site-packages (from flask<2.3,>=2.2) (2.2.0)\n",
      "Requirement already satisfied: click>=8.0 in c:\\users\\ricar\\appdata\\local\\programs\\python\\python311\\lib\\site-packages (from flask<2.3,>=2.2) (8.1.7)\n",
      "Requirement already satisfied: colorama in c:\\users\\ricar\\appdata\\local\\programs\\python\\python311\\lib\\site-packages (from click>=8.0->flask<2.3,>=2.2) (0.4.6)\n",
      "Requirement already satisfied: MarkupSafe>=2.0 in c:\\users\\ricar\\appdata\\local\\programs\\python\\python311\\lib\\site-packages (from Jinja2>=3.0->flask<2.3,>=2.2) (3.0.2)\n",
      "Note: you may need to restart the kernel to use updated packages.\n"
     ]
    }
   ],
   "source": [
    "pip install \"flask<2.3,>=2.2\""
   ]
  },
  {
   "cell_type": "code",
   "execution_count": 15,
   "id": "9c756c0d-c285-4a12-bcd5-40a1d42cae39",
   "metadata": {},
   "outputs": [
    {
     "name": "stdout",
     "output_type": "stream",
     "text": [
      "Requirement already satisfied: python-dotenv in c:\\users\\ricar\\appdata\\local\\programs\\python\\python311\\lib\\site-packages (1.0.1)\n",
      "Note: you may need to restart the kernel to use updated packages.\n"
     ]
    }
   ],
   "source": [
    "pip install python-dotenv"
   ]
  },
  {
   "cell_type": "code",
   "execution_count": 16,
   "id": "62915ffd-bda2-4444-a974-91b9ba5202cb",
   "metadata": {},
   "outputs": [
    {
     "name": "stdout",
     "output_type": "stream",
     "text": [
      "Requirement already satisfied: pyspark in c:\\users\\ricar\\appdata\\local\\programs\\python\\python311\\lib\\site-packages (3.5.3)Note: you may need to restart the kernel to use updated packages.\n",
      "\n",
      "Requirement already satisfied: boto3 in c:\\users\\ricar\\appdata\\local\\programs\\python\\python311\\lib\\site-packages (1.35.82)\n",
      "Requirement already satisfied: py4j==0.10.9.7 in c:\\users\\ricar\\appdata\\local\\programs\\python\\python311\\lib\\site-packages (from pyspark) (0.10.9.7)\n",
      "Requirement already satisfied: botocore<1.36.0,>=1.35.82 in c:\\users\\ricar\\appdata\\local\\programs\\python\\python311\\lib\\site-packages (from boto3) (1.35.82)\n",
      "Requirement already satisfied: jmespath<2.0.0,>=0.7.1 in c:\\users\\ricar\\appdata\\local\\programs\\python\\python311\\lib\\site-packages (from boto3) (1.0.1)\n",
      "Requirement already satisfied: s3transfer<0.11.0,>=0.10.0 in c:\\users\\ricar\\appdata\\local\\programs\\python\\python311\\lib\\site-packages (from boto3) (0.10.4)\n",
      "Requirement already satisfied: python-dateutil<3.0.0,>=2.1 in c:\\users\\ricar\\appdata\\local\\programs\\python\\python311\\lib\\site-packages (from botocore<1.36.0,>=1.35.82->boto3) (2.9.0.post0)\n",
      "Requirement already satisfied: urllib3!=2.2.0,<3,>=1.25.4 in c:\\users\\ricar\\appdata\\local\\programs\\python\\python311\\lib\\site-packages (from botocore<1.36.0,>=1.35.82->boto3) (2.2.3)\n",
      "Requirement already satisfied: six>=1.5 in c:\\users\\ricar\\appdata\\local\\programs\\python\\python311\\lib\\site-packages (from python-dateutil<3.0.0,>=2.1->botocore<1.36.0,>=1.35.82->boto3) (1.16.0)\n"
     ]
    }
   ],
   "source": [
    "pip install pyspark boto3"
   ]
  },
  {
   "cell_type": "code",
   "execution_count": 17,
   "id": "5982fed4-a459-42a5-b1ec-d9c295063292",
   "metadata": {},
   "outputs": [],
   "source": [
    "import os\n",
    "from pyspark.sql import SparkSession\n",
    "\n",
    "spark = SparkSession.builder \\\n",
    "    .appName(\"S3 Access Example\") \\\n",
    "    .config(\"spark.jars.packages\", \"org.apache.hadoop:hadoop-aws:3.3.4,com.amazonaws:aws-java-sdk-bundle:1.12.262\") \\\n",
    "    .getOrCreate()\n",
    "from pyspark.sql.functions import col, from_unixtime, avg, count\n",
    "from dotenv import load_dotenv"
   ]
  },
  {
   "cell_type": "code",
   "execution_count": 18,
   "id": "3a1809d9-66d5-43b0-83da-0cb4afb7936c",
   "metadata": {},
   "outputs": [],
   "source": [
    "# -----------------------\n",
    "# 1. Carregar Variáveis de Ambiente do .env_kafka_connect\n",
    "# -----------------------\n",
    "load_dotenv('.env_kafka_connect')  # Carregar o arquivo .env\n",
    "\n",
    "aws_access_key = os.getenv(\"AWS_ACCESS_KEY_ID\")\n",
    "aws_secret_key = os.getenv(\"AWS_SECRET_ACCESS_KEY\")\n",
    "aws_region = \"us-east-1\""
   ]
  },
  {
   "cell_type": "code",
   "execution_count": 19,
   "id": "78e2715d-1fde-4f47-8b79-e98edd049cd6",
   "metadata": {},
   "outputs": [],
   "source": [
    "# -----------------------\n",
    "# 2. Inicializar a Spark Session com Configuração S3\n",
    "# -----------------------\n",
    "\n",
    "# Caminho local dos arquivos JAR no mesmo diretório do notebook\n",
    "# Obter caminho absoluto dos JARs\n",
    "current_dir = os.getcwd()\n",
    "hadoop_aws_jar = os.path.join(current_dir, \"hadoop-aws-3.3.4.jar\")\n",
    "aws_sdk_jar = os.path.join(current_dir, \"aws-java-sdk-bundle-1.12.262.jar\")\n",
    "\n",
    "jars_path = f\"{hadoop_aws_jar},{aws_sdk_jar}\"\n",
    "\n",
    "spark = SparkSession.builder \\\n",
    "    .appName(\"ETL Pipeline - S3 Integration\") \\\n",
    "    .config(\"spark.hadoop.fs.s3a.impl\", \"org.apache.hadoop.fs.s3a.S3AFileSystem\") \\\n",
    "    .config(\"spark.jars\", jars_path) \\\n",
    "    .getOrCreate()\n",
    "\n",
    "\n",
    "# Configuração dinâmica das credenciais AWS no Spark\n",
    "spark._jsc.hadoopConfiguration().set(\"fs.s3a.access.key\", aws_access_key)\n",
    "spark._jsc.hadoopConfiguration().set(\"fs.s3a.secret.key\", aws_secret_key)\n",
    "spark._jsc.hadoopConfiguration().set(\"fs.s3a.endpoint\", f\"s3.{aws_region}.amazonaws.com\")\n",
    "\n",
    "# Configuração do acesso ao S3\n",
    "spark._jsc.hadoopConfiguration().set(\"fs.s3a.access.key\", aws_access_key)\n",
    "spark._jsc.hadoopConfiguration().set(\"fs.s3a.secret.key\", aws_secret_key)\n",
    "spark._jsc.hadoopConfiguration().set(\"fs.s3a.endpoint\", f\"s3.{aws_region}.amazonaws.com\")\n",
    "spark._jsc.hadoopConfiguration().set(\"fs.s3a.connection.ssl.enabled\", \"true\")\n",
    "spark._jsc.hadoopConfiguration().set(\"fs.s3a.path.style.access\", \"true\")"
   ]
  },
  {
   "cell_type": "code",
   "execution_count": 20,
   "id": "2ca35af7-9dd3-4d72-90bd-0baf142fa36b",
   "metadata": {},
   "outputs": [
    {
     "name": "stdout",
     "output_type": "stream",
     "text": [
      "Leitura bem-sucedida!\n",
      "+-----------+-------------+---------------+-----------+-------------+------------+----+----------+-------------+---------+\n",
      "|CompraManha|    Data_Base|Data_Vencimento|PUBaseManha|PUCompraManha|PUVendaManha|Tipo|VendaManha|    dt_update|partition|\n",
      "+-----------+-------------+---------------+-----------+-------------+------------+----+----------+-------------+---------+\n",
      "|      -1.49|1556236800000|  1557878400000|    3215.88|      3217.83|     3217.66|IPCA|     -1.37|1734381852214|        0|\n",
      "|       4.16|1556236800000|  1723680000000|    2574.76|      2592.49|     2576.75|IPCA|      4.28|1734381852215|        0|\n",
      "|       4.46|1556064000000|  2378419200000|    1003.38|      1034.13|     1003.74|IPCA|      4.58|1734381852250|        0|\n",
      "|      -0.54|1556064000000|  1557878400000|    3212.55|      3213.27|     3213.07|IPCA|     -0.42|1734381852251|        0|\n",
      "|      -0.39|1555459200000|  1557878400000|    3208.38|      3209.18|     3208.92|IPCA|     -0.27|1734381852288|        0|\n",
      "|       4.56|1555459200000|  2062800000000|    1541.38|      1570.53|     1541.93|IPCA|      4.68|1734381852289|        0|\n",
      "|       6.21|1433721600000|  1723680000000|    1513.28|      1521.76|     1513.92|IPCA|      6.27|1734381854661|        0|\n",
      "|      -0.23|1427155200000|  1431648000000|    2587.91|      2589.13|     2589.06|IPCA|     -0.21|1734381854662|        0|\n",
      "|      -0.39|1427068800000|  1431648000000|    2587.36|      2588.56|     2588.49|IPCA|     -0.37|1734381854665|        0|\n",
      "|       6.39|1427068800000|  1723680000000|    1440.85|      1449.49|     1441.86|IPCA|      6.45|1734381854666|        0|\n",
      "|      -0.69|1426809600000|  1431648000000|    2584.96|      2588.42|     2588.34|IPCA|     -0.67|1734381854668|        0|\n",
      "|       6.32|1426809600000|  1557878400000|    2003.19|      2009.47|     2006.36|IPCA|      6.36|1734381854669|        0|\n",
      "|      -0.87|1426636800000|  1431648000000|    2583.52|      2584.66|     2584.58|IPCA|     -0.85|1734381854703|        0|\n",
      "|       6.22|1426636800000|  1723680000000|    1458.18|      1466.92|     1459.18|IPCA|      6.28|1734381854704|        0|\n",
      "|      -0.99|1425945600000|  1431648000000|    2575.57|      2576.68|     2576.59|IPCA|     -0.97|1734381854748|        0|\n",
      "|       6.35|1425859200000|  1557878400000|    1986.84|      1991.29|     1988.19|IPCA|      6.39|1734381854748|        0|\n",
      "|      10.18|1718668800000|  1723680000000|    4222.05|      4224.91|     4222.05|IPCA|      10.3|1734381848412|        0|\n",
      "|       6.36|1718668800000|  2378419200000|    1163.38|      1191.41|     1163.38|IPCA|      6.48|1734381848413|        0|\n",
      "|      -0.11|1554768000000|  1557878400000|    3197.59|      3198.54|     3198.19|IPCA|      0.01|1734381851752|        0|\n",
      "|       4.11|1554768000000|  1723680000000|    2563.27|      2579.97|     2564.17|IPCA|      4.23|1734381851753|        0|\n",
      "+-----------+-------------+---------------+-----------+-------------+------------+----+----------+-------------+---------+\n",
      "only showing top 20 rows\n"
     ]
    }
   ],
   "source": [
    "# -----------------------\n",
    "# 3. Ler os Dados Brutos - Camada Bronze\n",
    "# não se esqueça de alterar o nome do seu bucket\n",
    "# -----------------------\n",
    "\n",
    "bronze_path = \"s3a://my-bucket-ric-01/raw-data/ipca/kafka/\"\n",
    "\n",
    "# Ler os dados do S3 e testar a conexão\n",
    "try:\n",
    "    df_bronze = spark.read.json(bronze_path)\n",
    "    print(\"Leitura bem-sucedida!\")\n",
    "    df_bronze.show()\n",
    "except Exception as e:\n",
    "    print(f\"Erro ao acessar o S3: {e}\")\n"
   ]
  },
  {
   "cell_type": "code",
   "execution_count": null,
   "id": "f3db6065-d1b6-438d-aad4-8e7984e64013",
   "metadata": {},
   "outputs": [
    {
     "name": "stdout",
     "output_type": "stream",
     "text": [
      "Dados Transformados (Silver):\n",
      "+-----------+----------+---------------+-----------+-------------+------------+----+----------+-------------------+---------+\n",
      "|CompraManha|Data_Base |Data_Vencimento|PUBaseManha|PUCompraManha|PUVendaManha|Tipo|VendaManha|dt_update          |partition|\n",
      "+-----------+----------+---------------+-----------+-------------+------------+----+----------+-------------------+---------+\n",
      "|-1.52      |2019-05-08|2019-05-14     |3222.97    |3223.49      |3223.44     |IPCA|-1.4      |2024-12-16 17:44:12|0        |\n",
      "|6.32       |2015-03-19|2019-05-14     |2003.19    |2009.47      |2006.36     |IPCA|6.36      |2024-12-16 17:44:14|0        |\n",
      "|4.04       |2019-05-06|2024-08-14     |2598.79    |2615.56      |2599.74     |IPCA|4.16      |2024-12-16 17:44:12|0        |\n",
      "|6.76       |2024-11-12|2035-05-14     |2177.13    |2203.74      |2177.13     |IPCA|6.88      |2024-12-16 17:44:08|0        |\n",
      "|-0.23      |2015-03-23|2015-05-14     |2587.91    |2589.13      |2589.06     |IPCA|-0.21     |2024-12-16 17:44:14|0        |\n",
      "|6.85       |2024-12-04|2035-05-14     |2171.75    |2197.99      |2171.75     |IPCA|6.97      |2024-12-16 17:44:08|0        |\n",
      "|4.11       |2019-04-08|2024-08-14     |2563.27    |2579.97      |2564.17     |IPCA|4.23      |2024-12-16 17:44:11|0        |\n",
      "|4.01       |2019-05-12|2024-08-14     |2606.61    |2623.35      |2607.53     |IPCA|4.13      |2024-12-16 17:44:12|0        |\n",
      "|-0.98      |2015-03-15|2015-05-14     |2581.86    |2582.99      |2582.91     |IPCA|-0.96     |2024-12-16 17:44:14|0        |\n",
      "|4.56       |2019-04-16|2035-05-14     |1541.38    |1570.53      |1541.93     |IPCA|4.68      |2024-12-16 17:44:12|0        |\n",
      "|4.46       |2019-04-23|2045-05-14     |1003.38    |1034.13      |1003.74     |IPCA|4.58      |2024-12-16 17:44:12|0        |\n",
      "|6.93       |2024-11-13|2029-05-14     |3217.11    |3235.33      |3217.11     |IPCA|7.05      |2024-12-16 17:44:08|0        |\n",
      "|6.76       |2024-12-04|2045-05-14     |1130.42    |1156.94      |1130.42     |IPCA|6.88      |2024-12-16 17:44:08|0        |\n",
      "|7.42       |2024-12-04|2026-08-14     |3863.54    |3872.35      |3863.54     |IPCA|7.54      |2024-12-16 17:44:08|0        |\n",
      "|-0.23      |2019-04-11|2019-05-14     |3204.59    |3207.2       |3206.89     |IPCA|-0.11     |2024-12-16 17:44:12|0        |\n",
      "|-0.97      |2015-03-16|2015-05-14     |2582.87    |2584.0       |2583.92     |IPCA|-0.95     |2024-12-16 17:44:14|0        |\n",
      "|6.21       |2015-06-07|2024-08-14     |1513.28    |1521.76      |1513.92     |IPCA|6.27      |2024-12-16 17:44:14|0        |\n",
      "|-1.54      |2019-05-05|2019-05-14     |3221.57    |3222.13      |3222.04     |IPCA|-1.42     |2024-12-16 17:44:12|0        |\n",
      "|6.79       |2024-11-10|2029-05-14     |3231.59    |3249.26      |3231.59     |IPCA|6.91      |2024-12-16 17:44:08|0        |\n",
      "|6.36       |2024-06-17|2045-05-14     |1163.38    |1191.41      |1163.38     |IPCA|6.48      |2024-12-16 17:44:08|0        |\n",
      "+-----------+----------+---------------+-----------+-------------+------------+----+----------+-------------------+---------+\n",
      "only showing top 20 rows\n"
     ]
    }
   ],
   "source": [
    "# -----------------------\n",
    "# 4. Tratamento dos Dados - Camada Silver\n",
    "# -----------------------\n",
    "# Remover duplicações e converter timestamps para datas legíveis\n",
    "df_silver = df_bronze.dropDuplicates()\n",
    "\n",
    "# Tratar timestamps e converter para formato legível\n",
    "df_silver = df_silver.withColumn(\"Data_Vencimento\", from_unixtime(col(\"Data_Vencimento\") / 1000, \"yyyy-MM-dd\")) \\\n",
    "                     .withColumn(\"Data_Base\", from_unixtime(col(\"Data_Base\") / 1000, \"yyyy-MM-dd\")) \\\n",
    "                     .withColumn(\"dt_update\", from_unixtime(col(\"dt_update\") / 1000, \"yyyy-MM-dd HH:mm:ss\"))\n",
    "\n",
    "# Tratar valores nulos\n",
    "df_silver = df_silver.fillna({\n",
    "    \"PUCompraManha\": 0,\n",
    "    \"PUVendaManha\": 0,\n",
    "    \"PUBaseManha\": 0\n",
    "})\n",
    "\n",
    "# Visualizar os dados transformados\n",
    "print(\"Dados Transformados (Silver):\")\n",
    "df_silver.show(truncate=False)\n",
    "\n",
    "# Salvar os dados limpos no S3 em formato Parquet\n",
    "silver_path = \"s3a://my-bucket-ric-01/processed-data/ipca/silver/\"\n",
    "df_silver.write.mode(\"overwrite\").parquet(silver_path)"
   ]
  },
  {
   "cell_type": "code",
   "execution_count": null,
   "id": "5961b21d-81f9-4ef0-9179-6ef8d7fb0557",
   "metadata": {},
   "outputs": [],
   "source": [
    "# -----------------------\n",
    "# 5. Agregação e Métricas - Camada Gold\n",
    "# -----------------------\n",
    "# Calcular métricas agregadas\n",
    "df_gold = df_silver.groupBy(\"Tipo\").agg(\n",
    "    avg(\"PUCompraManha\").alias(\"Media_PUCompraManha\"),\n",
    "    avg(\"PUVendaManha\").alias(\"Media_PUVendaManha\"),\n",
    "    count(\"*\").alias(\"Total_Registros\")\n",
    ")\n",
    "\n",
    "# Visualizar as métricas agregadas\n",
    "print(\"Dados Agregados (Gold):\")\n",
    "df_gold.show(truncate=False)\n",
    "\n",
    "# Salvar os dados agregados no S3 em formato Parquet\n",
    "gold_path = \"s3a://my-bucket-ric-01/analytics/ipca/gold/\"\n",
    "df_gold.write.mode(\"overwrite\").parquet(gold_path)"
   ]
  },
  {
   "cell_type": "code",
   "execution_count": null,
   "id": "initial_id",
   "metadata": {},
   "outputs": [],
   "source": [
    "# -----------------------\n",
    "# 6. Encerrar a Spark Session\n",
    "# -----------------------\n",
    "spark.stop()\n"
   ]
  }
 ],
 "metadata": {
  "kernelspec": {
   "display_name": "Python 3 (ipykernel)",
   "language": "python",
   "name": "python3"
  },
  "language_info": {
   "codemirror_mode": {
    "name": "ipython",
    "version": 3
   },
   "file_extension": ".py",
   "mimetype": "text/x-python",
   "name": "python",
   "nbconvert_exporter": "python",
   "pygments_lexer": "ipython3",
   "version": "3.11.6"
  }
 },
 "nbformat": 4,
 "nbformat_minor": 5
}
